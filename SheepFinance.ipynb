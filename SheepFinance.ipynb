{
 "cells": [
  {
   "cell_type": "code",
   "execution_count": 1,
   "metadata": {},
   "outputs": [],
   "source": [
    "import numpy as np\n",
    "import math\n",
    "import pandas as pd\n",
    "import matplotlib.pyplot as plt"
   ]
  },
  {
   "cell_type": "code",
   "execution_count": 2,
   "metadata": {},
   "outputs": [],
   "source": [
    "df = pd.read_excel('C:/Users/91740/Documents/SheepFinance/FBIL.xlsx')"
   ]
  },
  {
   "cell_type": "code",
   "execution_count": 3,
   "metadata": {},
   "outputs": [
    {
     "data": {
      "text/html": [
       "<div>\n",
       "<style scoped>\n",
       "    .dataframe tbody tr th:only-of-type {\n",
       "        vertical-align: middle;\n",
       "    }\n",
       "\n",
       "    .dataframe tbody tr th {\n",
       "        vertical-align: top;\n",
       "    }\n",
       "\n",
       "    .dataframe thead th {\n",
       "        text-align: right;\n",
       "    }\n",
       "</style>\n",
       "<table border=\"1\" class=\"dataframe\">\n",
       "  <thead>\n",
       "    <tr style=\"text-align: right;\">\n",
       "      <th></th>\n",
       "      <th>Tenor (Year)</th>\n",
       "      <th>YTM% p.a.(Semi-Annual)</th>\n",
       "      <th>YTM % p.a.(Annualized)</th>\n",
       "    </tr>\n",
       "  </thead>\n",
       "  <tbody>\n",
       "    <tr>\n",
       "      <th>0</th>\n",
       "      <td>0.25</td>\n",
       "      <td>0.063562</td>\n",
       "      <td>0.065674</td>\n",
       "    </tr>\n",
       "    <tr>\n",
       "      <th>1</th>\n",
       "      <td>0.50</td>\n",
       "      <td>0.065520</td>\n",
       "      <td>0.067440</td>\n",
       "    </tr>\n",
       "    <tr>\n",
       "      <th>2</th>\n",
       "      <td>0.75</td>\n",
       "      <td>0.066541</td>\n",
       "      <td>0.068325</td>\n",
       "    </tr>\n",
       "    <tr>\n",
       "      <th>3</th>\n",
       "      <td>1.00</td>\n",
       "      <td>0.068232</td>\n",
       "      <td>0.069396</td>\n",
       "    </tr>\n",
       "    <tr>\n",
       "      <th>4</th>\n",
       "      <td>1.25</td>\n",
       "      <td>0.068737</td>\n",
       "      <td>0.069918</td>\n",
       "    </tr>\n",
       "    <tr>\n",
       "      <th>...</th>\n",
       "      <td>...</td>\n",
       "      <td>...</td>\n",
       "      <td>...</td>\n",
       "    </tr>\n",
       "    <tr>\n",
       "      <th>155</th>\n",
       "      <td>39.00</td>\n",
       "      <td>0.074352</td>\n",
       "      <td>0.075734</td>\n",
       "    </tr>\n",
       "    <tr>\n",
       "      <th>156</th>\n",
       "      <td>39.25</td>\n",
       "      <td>0.074343</td>\n",
       "      <td>0.075725</td>\n",
       "    </tr>\n",
       "    <tr>\n",
       "      <th>157</th>\n",
       "      <td>39.50</td>\n",
       "      <td>0.074360</td>\n",
       "      <td>0.075742</td>\n",
       "    </tr>\n",
       "    <tr>\n",
       "      <th>158</th>\n",
       "      <td>39.75</td>\n",
       "      <td>0.074355</td>\n",
       "      <td>0.075737</td>\n",
       "    </tr>\n",
       "    <tr>\n",
       "      <th>159</th>\n",
       "      <td>40.00</td>\n",
       "      <td>0.074367</td>\n",
       "      <td>0.075750</td>\n",
       "    </tr>\n",
       "  </tbody>\n",
       "</table>\n",
       "<p>160 rows × 3 columns</p>\n",
       "</div>"
      ],
      "text/plain": [
       "     Tenor (Year)  YTM% p.a.(Semi-Annual)  YTM % p.a.(Annualized)\n",
       "0            0.25                0.063562                0.065674\n",
       "1            0.50                0.065520                0.067440\n",
       "2            0.75                0.066541                0.068325\n",
       "3            1.00                0.068232                0.069396\n",
       "4            1.25                0.068737                0.069918\n",
       "..            ...                     ...                     ...\n",
       "155         39.00                0.074352                0.075734\n",
       "156         39.25                0.074343                0.075725\n",
       "157         39.50                0.074360                0.075742\n",
       "158         39.75                0.074355                0.075737\n",
       "159         40.00                0.074367                0.075750\n",
       "\n",
       "[160 rows x 3 columns]"
      ]
     },
     "execution_count": 3,
     "metadata": {},
     "output_type": "execute_result"
    }
   ],
   "source": [
    "df"
   ]
  },
  {
   "cell_type": "code",
   "execution_count": 4,
   "metadata": {},
   "outputs": [],
   "source": [
    "def input_file(df):\n",
    "    zero_rates = df['YTM % p.a.(Annualized)']\n",
    "    tenors = df['Tenor (Year)']\n",
    "    return(zero_rates, tenors)"
   ]
  },
  {
   "cell_type": "code",
   "execution_count": 5,
   "metadata": {},
   "outputs": [],
   "source": [
    "def NPV_3m(r):\n",
    "    x = df.iloc[0]\n",
    "    fix_leg = []\n",
    "    float_leg = []\n",
    "    tenor_check = x['Tenor (Year)']\n",
    "    Par_SemiAnnual = x['YTM% p.a.(Semi-Annual)']\n",
    "    t = 0.25\n",
    "    \n",
    "    i = 0\n",
    "    zero_rates[i] = r\n",
    "    zr = np.interp(t, tenors, zero_rates)\n",
    "    disc_factor = 1/(1+zr)**t\n",
    "    fra = (1/(disc_factor)-1)/0.25\n",
    "    \n",
    "    fix_leg = 1e7*Par_SemiAnnual*0.25*disc_factor\n",
    "    float_leg = 1e7*fra*0.25*disc_factor\n",
    "    npv = fix_leg - float_leg\n",
    "    return(npv)"
   ]
  },
  {
   "cell_type": "code",
   "execution_count": 6,
   "metadata": {},
   "outputs": [],
   "source": [
    "def newton_raphson_3m(r):\n",
    "    h = 0.0000001\n",
    "    for i in range(0,10):\n",
    "        f1 = NPV_3m(r+h)\n",
    "        f2 = NPV_3m(r)\n",
    "        df = (f1-f2)/h\n",
    "        r = r - f2/df\n",
    "    return(r)    "
   ]
  },
  {
   "cell_type": "code",
   "execution_count": 7,
   "metadata": {},
   "outputs": [],
   "source": [
    "def NPV_6m(r):\n",
    "    x = df.iloc[1]\n",
    "    fix_leg = []\n",
    "    float_leg = []\n",
    "    tenor_check = x['Tenor (Year)']\n",
    "    Par_SemiAnnual = x['YTM% p.a.(Semi-Annual)']\n",
    "    t = 0.5\n",
    "    \n",
    "    i = 1\n",
    "    zero_rates[i] = r\n",
    "    zr = np.interp(t, tenors, zero_rates)\n",
    "    disc_factor = 1/(1+zr)**t\n",
    "    fra = (1/(disc_factor)-1)/0.5\n",
    "    \n",
    "    fix_leg = 1e7*Par_SemiAnnual*0.5*disc_factor\n",
    "    float_leg = 1e7*fra*0.5*disc_factor\n",
    "    npv = fix_leg - float_leg\n",
    "    return(npv)"
   ]
  },
  {
   "cell_type": "code",
   "execution_count": 8,
   "metadata": {},
   "outputs": [],
   "source": [
    "def newton_raphson_6m(r):\n",
    "    h = 0.0000001\n",
    "    for i in range(0,10):\n",
    "        f1 = NPV_6m(r+h)\n",
    "        f2 = NPV_6m(r)\n",
    "        df = (f1-f2)/h\n",
    "        r = r - f2/df\n",
    "    return(r)    "
   ]
  },
  {
   "cell_type": "code",
   "execution_count": 9,
   "metadata": {},
   "outputs": [],
   "source": [
    "def NPV_full(i,r):\n",
    "    \n",
    "    zero_rates[i] = r\n",
    "    \n",
    "    fix_leg = []\n",
    "    float_leg = []\n",
    "    x = df.iloc[i]\n",
    "    tenor_check = x['Tenor (Year)']\n",
    "    Par_SemiAnnual = x['YTM% p.a.(Semi-Annual)']\n",
    "    n = tenor_check % 0.5\n",
    "    if(n != 0):\n",
    "        m = int((tenor_check - 0.25)/0.5)\n",
    "        m = m + 1\n",
    "        t = 0\n",
    "        for j in range(0,m):\n",
    "            if(j==0):\n",
    "                t = 0.25\n",
    "                zr1 = np.interp(0.25, tenors, zero_rates)\n",
    "                zr2 = np.interp(t, tenors, zero_rates)\n",
    "                disc_factor1 = 1/(1+zr1)**(t-0.25)\n",
    "                disc_factor2 = 1/(1+zr2)**t\n",
    "                fra = ((disc_factor1)/(disc_factor2)-1)*1/0.25\n",
    "                fix_leg.append(1e7*Par_SemiAnnual*0.25*disc_factor2)\n",
    "                float_leg.append(1e7*fra*0.25*disc_factor2)\n",
    "                \n",
    "            else:\n",
    "                t = 0.5 + t\n",
    "                zr1 = np.interp(t - 0.5, tenors, zero_rates)\n",
    "                zr2 = np.interp(t, tenors, zero_rates)\n",
    "                disc_factor1 = 1/(1+zr1)**(t-0.5)\n",
    "                disc_factor2 = 1/(1+zr2)**t\n",
    "                fra = ((disc_factor1)/(disc_factor2)-1)*1/0.5\n",
    "                fix_leg.append(1e7*Par_SemiAnnual*0.5*disc_factor2)\n",
    "                float_leg.append(1e7*fra*0.5*disc_factor2)\n",
    "                \n",
    "        npv = sum(fix_leg) - sum(float_leg)\n",
    "        \n",
    "    if(n == 0):   \n",
    "        m = int((tenor_check - 0.5)/0.5)\n",
    "        m = m + 1\n",
    "        t = 0\n",
    "        for j in range(0,m):\n",
    "            t = 0.5 + t\n",
    "            zr1 = np.interp(t - 0.5, tenors, zero_rates)\n",
    "            zr2 = np.interp(t, tenors, zero_rates)\n",
    "            disc_factor1 = 1/(1+zr1)**(t-0.5)\n",
    "            disc_factor2 = 1/(1+zr2)**t\n",
    "            fra = ((disc_factor1)/(disc_factor2)-1)*1/0.5\n",
    "            fix_leg.append(1e7*Par_SemiAnnual*0.5*disc_factor2)\n",
    "            float_leg.append(1e7*fra*0.5*disc_factor2)\n",
    "\n",
    "        npv = sum(fix_leg) - sum(float_leg)\n",
    "        \n",
    "    return(npv)    \n",
    "            "
   ]
  },
  {
   "cell_type": "code",
   "execution_count": 10,
   "metadata": {},
   "outputs": [],
   "source": [
    "def newton_raphson_full(i,r):\n",
    "    h = 0.0000001\n",
    "    for j in range(0,8):\n",
    "        f1 = NPV_full(i,r+h)\n",
    "        f2 = NPV_full(i,r)\n",
    "        df = (f1-f2)/h\n",
    "        r = r - f2/df\n",
    "    return(r)  "
   ]
  },
  {
   "cell_type": "code",
   "execution_count": 11,
   "metadata": {},
   "outputs": [],
   "source": [
    "zero_rates, tenors = input_file(df)\n",
    "r = 0.05\n",
    "for p in range(0, len(df)):\n",
    "    if(p == 0): \n",
    "        zero_rates[p] = newton_raphson_3m(r)\n",
    "    elif(p == 1): \n",
    "        zero_rates[p] = newton_raphson_6m(r)\n",
    "    else: \n",
    "        zero_rates[p] = newton_raphson_full(p,r) \n",
    "    "
   ]
  },
  {
   "cell_type": "code",
   "execution_count": 12,
   "metadata": {},
   "outputs": [
    {
     "data": {
      "text/plain": [
       "0      0.065094\n",
       "1      0.066593\n",
       "2      0.067856\n",
       "3      0.069444\n",
       "4      0.070106\n",
       "         ...   \n",
       "155    0.076850\n",
       "156    0.076861\n",
       "157    0.076886\n",
       "158    0.076919\n",
       "159    0.076918\n",
       "Name: YTM % p.a.(Annualized), Length: 160, dtype: float64"
      ]
     },
     "execution_count": 12,
     "metadata": {},
     "output_type": "execute_result"
    }
   ],
   "source": [
    "zero_rates"
   ]
  },
  {
   "cell_type": "code",
   "execution_count": null,
   "metadata": {},
   "outputs": [],
   "source": []
  }
 ],
 "metadata": {
  "kernelspec": {
   "display_name": "Python 3",
   "language": "python",
   "name": "python3"
  },
  "language_info": {
   "codemirror_mode": {
    "name": "ipython",
    "version": 3
   },
   "file_extension": ".py",
   "mimetype": "text/x-python",
   "name": "python",
   "nbconvert_exporter": "python",
   "pygments_lexer": "ipython3",
   "version": "3.7.6"
  }
 },
 "nbformat": 4,
 "nbformat_minor": 4
}
